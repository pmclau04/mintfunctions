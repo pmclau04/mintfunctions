{
 "cells": [
  {
   "cell_type": "code",
   "execution_count": 1,
   "metadata": {},
   "outputs": [],
   "source": [
    "import pandas as pd\n",
    "import mintfunctions"
   ]
  },
  {
   "cell_type": "markdown",
   "metadata": {},
   "source": [
    "### 1.0 - User Process Transaction Data"
   ]
  },
  {
   "cell_type": "code",
   "execution_count": 16,
   "metadata": {},
   "outputs": [
    {
     "data": {
      "text/html": [
       "<div>\n",
       "<style scoped>\n",
       "    .dataframe tbody tr th:only-of-type {\n",
       "        vertical-align: middle;\n",
       "    }\n",
       "\n",
       "    .dataframe tbody tr th {\n",
       "        vertical-align: top;\n",
       "    }\n",
       "\n",
       "    .dataframe thead th {\n",
       "        text-align: right;\n",
       "    }\n",
       "</style>\n",
       "<table border=\"1\" class=\"dataframe\">\n",
       "  <thead>\n",
       "    <tr style=\"text-align: right;\">\n",
       "      <th></th>\n",
       "      <th>Description</th>\n",
       "      <th>Original Description</th>\n",
       "      <th>Amount</th>\n",
       "      <th>Transaction Type</th>\n",
       "      <th>Category</th>\n",
       "      <th>Account Name</th>\n",
       "      <th>Label</th>\n",
       "      <th>Notes</th>\n",
       "      <th>YYYY</th>\n",
       "      <th>MM</th>\n",
       "      <th>DD</th>\n",
       "      <th>Overall_Category</th>\n",
       "    </tr>\n",
       "    <tr>\n",
       "      <th>Date</th>\n",
       "      <th></th>\n",
       "      <th></th>\n",
       "      <th></th>\n",
       "      <th></th>\n",
       "      <th></th>\n",
       "      <th></th>\n",
       "      <th></th>\n",
       "      <th></th>\n",
       "      <th></th>\n",
       "      <th></th>\n",
       "      <th></th>\n",
       "      <th></th>\n",
       "    </tr>\n",
       "  </thead>\n",
       "  <tbody>\n",
       "    <tr>\n",
       "      <th>2021-12-30</th>\n",
       "      <td>Dummy</td>\n",
       "      <td>Dummy</td>\n",
       "      <td>0</td>\n",
       "      <td>credit</td>\n",
       "      <td>Income</td>\n",
       "      <td>Example</td>\n",
       "      <td>NaN</td>\n",
       "      <td>NaN</td>\n",
       "      <td>2021</td>\n",
       "      <td>12</td>\n",
       "      <td>30</td>\n",
       "      <td>Reimbursement</td>\n",
       "    </tr>\n",
       "    <tr>\n",
       "      <th>2021-12-30</th>\n",
       "      <td>Dummy</td>\n",
       "      <td>Dummy</td>\n",
       "      <td>-30</td>\n",
       "      <td>debit</td>\n",
       "      <td>Investments</td>\n",
       "      <td>Example</td>\n",
       "      <td>NaN</td>\n",
       "      <td>NaN</td>\n",
       "      <td>2021</td>\n",
       "      <td>12</td>\n",
       "      <td>30</td>\n",
       "      <td>Transfer</td>\n",
       "    </tr>\n",
       "    <tr>\n",
       "      <th>2021-12-31</th>\n",
       "      <td>Dummy</td>\n",
       "      <td>Dummy</td>\n",
       "      <td>-20</td>\n",
       "      <td>debit</td>\n",
       "      <td>Gas &amp; Fuel</td>\n",
       "      <td>Example</td>\n",
       "      <td>NaN</td>\n",
       "      <td>NaN</td>\n",
       "      <td>2021</td>\n",
       "      <td>12</td>\n",
       "      <td>31</td>\n",
       "      <td>Auto &amp; Transport</td>\n",
       "    </tr>\n",
       "    <tr>\n",
       "      <th>2021-12-31</th>\n",
       "      <td>Dummy</td>\n",
       "      <td>Dummy</td>\n",
       "      <td>0</td>\n",
       "      <td>credit</td>\n",
       "      <td>Interest Income</td>\n",
       "      <td>Example</td>\n",
       "      <td>NaN</td>\n",
       "      <td>NaN</td>\n",
       "      <td>2021</td>\n",
       "      <td>12</td>\n",
       "      <td>31</td>\n",
       "      <td>Income</td>\n",
       "    </tr>\n",
       "    <tr>\n",
       "      <th>2021-12-31</th>\n",
       "      <td>Dummy</td>\n",
       "      <td>Dummy</td>\n",
       "      <td>0</td>\n",
       "      <td>debit</td>\n",
       "      <td>Investments</td>\n",
       "      <td>Example</td>\n",
       "      <td>NaN</td>\n",
       "      <td>NaN</td>\n",
       "      <td>2021</td>\n",
       "      <td>12</td>\n",
       "      <td>31</td>\n",
       "      <td>Transfer</td>\n",
       "    </tr>\n",
       "  </tbody>\n",
       "</table>\n",
       "</div>"
      ],
      "text/plain": [
       "           Description Original Description  Amount Transaction Type  \\\n",
       "Date                                                                   \n",
       "2021-12-30       Dummy                Dummy       0           credit   \n",
       "2021-12-30       Dummy                Dummy     -30            debit   \n",
       "2021-12-31       Dummy                Dummy     -20            debit   \n",
       "2021-12-31       Dummy                Dummy       0           credit   \n",
       "2021-12-31       Dummy                Dummy       0            debit   \n",
       "\n",
       "                   Category Account Name  Label  Notes  YYYY  MM  DD  \\\n",
       "Date                                                                   \n",
       "2021-12-30           Income      Example    NaN    NaN  2021  12  30   \n",
       "2021-12-30      Investments      Example    NaN    NaN  2021  12  30   \n",
       "2021-12-31       Gas & Fuel      Example    NaN    NaN  2021  12  31   \n",
       "2021-12-31  Interest Income      Example    NaN    NaN  2021  12  31   \n",
       "2021-12-31      Investments      Example    NaN    NaN  2021  12  31   \n",
       "\n",
       "            Overall_Category  \n",
       "Date                          \n",
       "2021-12-30     Reimbursement  \n",
       "2021-12-30          Transfer  \n",
       "2021-12-31  Auto & Transport  \n",
       "2021-12-31            Income  \n",
       "2021-12-31          Transfer  "
      ]
     },
     "execution_count": 16,
     "metadata": {},
     "output_type": "execute_result"
    }
   ],
   "source": [
    "#Load historical data\n",
    "df = pd.read_csv(r'./data/transactions.csv',index_col='Date',encoding='latin-1',infer_datetime_format=True)\n",
    "df.index = pd.to_datetime(df.index)\n",
    "df = mintfunctions.process_mintcsv(df)\n",
    "df.tail()"
   ]
  },
  {
   "cell_type": "markdown",
   "metadata": {},
   "source": [
    "## 2.0 - Generate and Save Figures as pdf"
   ]
  },
  {
   "cell_type": "code",
   "execution_count": 17,
   "metadata": {},
   "outputs": [],
   "source": [
    "mintfunctions.generate_pdf(df,\n",
    "             pdfdir = '', \n",
    "             figdir = r'./figures',\n",
    "             yearly_exclude_category = None, \n",
    "             spending_drop_categories = ['Income', 'Transfer','Reimbursement','Credit Card Payment','Loans'])\n"
   ]
  },
  {
   "cell_type": "markdown",
   "metadata": {},
   "source": [
    "### Optional - Extract specified year, category, and month to examine transactions"
   ]
  },
  {
   "cell_type": "code",
   "execution_count": null,
   "metadata": {},
   "outputs": [],
   "source": [
    "year = 2022\n",
    "cat = 'Home Improvement'\n",
    "month = 8\n",
    "\n",
    "df_spending[(df_spending['MM']==month) & (df_spending['YYYY']==year) & (df_spending['Overall_Category'] ==cat)]"
   ]
  }
 ],
 "metadata": {
  "kernelspec": {
   "display_name": "Python 3",
   "language": "python",
   "name": "python3"
  },
  "language_info": {
   "codemirror_mode": {
    "name": "ipython",
    "version": 3
   },
   "file_extension": ".py",
   "mimetype": "text/x-python",
   "name": "python",
   "nbconvert_exporter": "python",
   "pygments_lexer": "ipython3",
   "version": "3.6.8"
  }
 },
 "nbformat": 4,
 "nbformat_minor": 2
}
